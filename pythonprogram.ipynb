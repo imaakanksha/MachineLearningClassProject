{
 "cells": [
  {
   "cell_type": "code",
   "execution_count": 2,
   "metadata": {},
   "outputs": [
    {
     "name": "stdout",
     "output_type": "stream",
     "text": [
      "We are writing the Prime NUmber Program.\n"
     ]
    }
   ],
   "source": [
    "print(\"We are writing the Prime NUmber Program.\")"
   ]
  },
  {
   "cell_type": "code",
   "execution_count": null,
   "metadata": {},
   "outputs": [
    {
     "name": "stdout",
     "output_type": "stream",
     "text": [
      "The given number is composite i.e. it is not Prime number.\n"
     ]
    }
   ],
   "source": [
    "n=int(input(\"Enter the value of the number for which you want to check it is Prime or not?:\"))\n",
    "flag=0\n",
    "if (n<2):\n",
    "    flag=1\n",
    "else:\n",
    "    for i in range(2,int((n/2))):\n",
    "        if n%i == 0:\n",
    "            flag=1\n",
    "            break\n",
    "if flag == 1:\n",
    "    print(\"The given number is composite i.e. it is not Prime number.\")\n",
    "else:\n",
    "    print(\"The given number is a Prime Number.\")"
   ]
  }
 ],
 "metadata": {
  "kernelspec": {
   "display_name": "Python 3",
   "language": "python",
   "name": "python3"
  },
  "language_info": {
   "codemirror_mode": {
    "name": "ipython",
    "version": 3
   },
   "file_extension": ".py",
   "mimetype": "text/x-python",
   "name": "python",
   "nbconvert_exporter": "python",
   "pygments_lexer": "ipython3",
   "version": "3.13.0"
  }
 },
 "nbformat": 4,
 "nbformat_minor": 2
}
